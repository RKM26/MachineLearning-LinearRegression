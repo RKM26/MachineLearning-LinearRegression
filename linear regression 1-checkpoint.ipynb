{
 "cells": [
  {
   "cell_type": "code",
   "execution_count": 1,
   "metadata": {},
   "outputs": [],
   "source": [
    "import numpy as np\n",
    "from numpy import mean\n",
    "import matplotlib.pyplot as plt"
   ]
  },
  {
   "cell_type": "code",
   "execution_count": 2,
   "metadata": {},
   "outputs": [],
   "source": [
    "# regression\n",
    "\n",
    "x=np.array([1,2,3,4,5,6])\n",
    "y=np.array([2,4,6,8,10,12])\n",
    "\n",
    "meanx=np.mean(x)\n",
    "meany=np.mean(y)\n",
    "\n",
    "xy=x*y\n",
    "meanxy=np.mean(xy)\n",
    "\n",
    "xfirst=meanx**2\n",
    "xnew=x**2\n",
    "xlast=np.mean(xnew)\n",
    "\n",
    "up=meanx*meany\n",
    "up=up-meanxy\n",
    "\n",
    "\n",
    "down=xfirst-xlast\n",
    "ans=up/down\n",
    "\n",
    "\n",
    "d=(ans*(meanx))\n",
    "c=meanx-d\n",
    "\n",
    "\n"
   ]
  },
  {
   "cell_type": "code",
   "execution_count": 174,
   "metadata": {},
   "outputs": [
    {
     "name": "stderr",
     "output_type": "stream",
     "text": [
      "No handles with labels found to put in legend.\n"
     ]
    },
    {
     "data": {
      "text/plain": [
       "(3.0000000000000004, -1.0000000000000018)"
      ]
     },
     "execution_count": 174,
     "metadata": {},
     "output_type": "execute_result"
    },
    {
     "data": {
      "image/png": "[encoded data removed]",
      "text/plain": [
       "<Figure size 432x288 with 1 Axes>"
      ]
     },
     "metadata": {},
     "output_type": "display_data"
    }
   ],
   "source": [
    "x=np.array([1,2,3,4,5,6])\n",
    "#y=np.array([2,4,6,8,10,12])\n",
    "y=np.array([2,5,8,11,14,17])\n",
    "\n",
    "def lin(x,y2):\n",
    "    m=((mean(x)*mean(y)-mean(x*y))/((mean(x)**2)-mean(x**2)))\n",
    "    c=mean(y)-(m*(mean(x)))\n",
    "    return m,c\n",
    "m,c=lin(x,y)\n",
    "ry=np.array([i*m+c for i in x])\n",
    "ry\n",
    "\n",
    "y2=np.array([2,5,8,11,14,17])\n",
    "meany2=np.mean(y)\n",
    "\n",
    "plt.plot(x,ry,'-')\n",
    "\n",
    "\n",
    "plt.scatter(x,ry)\n",
    "\n",
    "plt.plot(x,[mean(y) for i in x])\n",
    "plt.legend()\n",
    "m,c"
   ]
  },
  {
   "cell_type": "code",
   "execution_count": 111,
   "metadata": {},
   "outputs": [
    {
     "data": {
      "text/plain": [
       "1.0"
      ]
     },
     "execution_count": 111,
     "metadata": {},
     "output_type": "execute_result"
    }
   ],
   "source": [
    "sum1=np.sum((ry-y)**2)\n",
    "sum2=np.sum((meany-y)**2)\n",
    "final=1-(sum1/sum2)\n",
    "final\n"
   ]
  },
  {
   "cell_type": "code",
   "execution_count": 214,
   "metadata": {},
   "outputs": [
    {
     "data": {
      "text/plain": [
       "array([[12, 14, 16, 18, 20]])"
      ]
     },
     "execution_count": 214,
     "metadata": {},
     "output_type": "execute_result"
    }
   ],
   "source": [
    "#x=np.array([1,2,3,4,5,6])\n",
    "x=np.array([1,2,3,4,5,6,7,8,9,10])\n",
    "y=np.array([2,4,6,8,10,12,14,16,18,20])\n",
    "\n",
    "def lin(x,y):\n",
    "    m=((mean(x)*mean(y)-mean(x*y))/((mean(x)**2)-mean(x**2)))\n",
    "    c=mean(y)-(m*(mean(x)))\n",
    "    return m,c\n",
    "\n",
    "x1=x[:5]\n",
    "y1=y[5:]\n",
    "x2=x[5:]\n",
    "\n",
    "x1=np.reshape(x1,(1,5))\n",
    "x2=np.reshape(x2,(1,5))\n",
    "y1=np.reshape(y1,(1,5))\n",
    "\n",
    "\n",
    "m,c=lin(x1,y1)\n",
    "m,c\n",
    "#ry=[i*m+c for i in x[5:]]\n",
    "a3\n"
   ]
  },
  {
   "cell_type": "code",
   "execution_count": 215,
   "metadata": {},
   "outputs": [],
   "source": [
    "#Anaconda Prompt\n",
    "# Pip install quandl"
   ]
  },
  {
   "cell_type": "code",
   "execution_count": 222,
   "metadata": {},
   "outputs": [],
   "source": [
    "from sklearn.linear_model import LinearRegression"
   ]
  },
  {
   "cell_type": "code",
   "execution_count": 223,
   "metadata": {},
   "outputs": [
    {
     "data": {
      "text/plain": [
       "array([[12., 14., 16., 18., 20.]])"
      ]
     },
     "execution_count": 223,
     "metadata": {},
     "output_type": "execute_result"
    }
   ],
   "source": [
    "algo=LinearRegression()\n",
    "algo.fit(x1,y1)\n",
    "algo.predict(x2)\n",
    "\n",
    "#algo.fit(np.expand_dims(x1,0),np.expand_dims(y1,0))"
   ]
  },
  {
   "cell_type": "code",
   "execution_count": null,
   "metadata": {},
   "outputs": [],
   "source": []
  }
 ],
 "metadata": {
  "kernelspec": {
   "display_name": "Python 3",
   "language": "python",
   "name": "python3"
  },
  "language_info": {
   "codemirror_mode": {
    "name": "ipython",
    "version": 3
   },
   "file_extension": ".py",
   "mimetype": "text/x-python",
   "name": "python",
   "nbconvert_exporter": "python",
   "pygments_lexer": "ipython3",
   "version": "3.6.5"
  }
 },
 "nbformat": 4,
 "nbformat_minor": 2
}
